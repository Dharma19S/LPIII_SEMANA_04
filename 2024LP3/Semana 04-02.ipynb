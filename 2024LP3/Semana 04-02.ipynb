{
 "cells": [
  {
   "cell_type": "markdown",
   "id": "1e4c2300",
   "metadata": {},
   "source": [
    "Agenda\n",
    "\n",
    "1. Números\n",
    "2. Variables\n",
    "3. Manejo de cadenas\n",
    "4. Ingreso por el eclado\n",
    "5. Operadores"
   ]
  },
  {
   "cell_type": "markdown",
   "id": "1fa1c6af",
   "metadata": {},
   "source": [
    "2. Variables"
   ]
  },
  {
   "cell_type": "code",
   "execution_count": 1,
   "id": "f4282a1c",
   "metadata": {},
   "outputs": [],
   "source": [
    "# Se debe iniciar siempre con una letra o un guión abajo . (Nunca con un número u otro símbolo)"
   ]
  },
  {
   "cell_type": "code",
   "execution_count": 2,
   "id": "4861393d",
   "metadata": {},
   "outputs": [],
   "source": [
    "edad = 21"
   ]
  },
  {
   "cell_type": "code",
   "execution_count": 3,
   "id": "8fd48c61",
   "metadata": {},
   "outputs": [
    {
     "data": {
      "text/plain": [
       "21"
      ]
     },
     "execution_count": 3,
     "metadata": {},
     "output_type": "execute_result"
    }
   ],
   "source": [
    "edad"
   ]
  },
  {
   "cell_type": "code",
   "execution_count": 15,
   "id": "183ec468",
   "metadata": {},
   "outputs": [],
   "source": [
    "nombre = \"Dharma\""
   ]
  },
  {
   "cell_type": "code",
   "execution_count": 16,
   "id": "3dd66944",
   "metadata": {},
   "outputs": [],
   "source": [
    "apellido = \"Bonifacio\""
   ]
  },
  {
   "cell_type": "code",
   "execution_count": 17,
   "id": "58581695",
   "metadata": {},
   "outputs": [],
   "source": [
    "nombre_completo = apellido + \" \" + nombre"
   ]
  },
  {
   "cell_type": "code",
   "execution_count": 18,
   "id": "779bf557",
   "metadata": {},
   "outputs": [
    {
     "data": {
      "text/plain": [
       "'Bonifacio Dharma'"
      ]
     },
     "execution_count": 18,
     "metadata": {},
     "output_type": "execute_result"
    }
   ],
   "source": [
    "nombre_completo"
   ]
  },
  {
   "cell_type": "code",
   "execution_count": 19,
   "id": "e4a1811e",
   "metadata": {},
   "outputs": [
    {
     "data": {
      "text/plain": [
       "int"
      ]
     },
     "execution_count": 19,
     "metadata": {},
     "output_type": "execute_result"
    }
   ],
   "source": [
    "#Para saber el tipo de variable utilizamos la función type()\n",
    "#Por ejemplo:\n",
    "numero = 50\n",
    "type(numero)"
   ]
  },
  {
   "cell_type": "code",
   "execution_count": 20,
   "id": "8672b519",
   "metadata": {},
   "outputs": [],
   "source": [
    "talla = 1.66"
   ]
  },
  {
   "cell_type": "code",
   "execution_count": 21,
   "id": "4cc66d2c",
   "metadata": {},
   "outputs": [
    {
     "data": {
      "text/plain": [
       "1.66"
      ]
     },
     "execution_count": 21,
     "metadata": {},
     "output_type": "execute_result"
    }
   ],
   "source": [
    "talla"
   ]
  },
  {
   "cell_type": "code",
   "execution_count": 22,
   "id": "a0f4cd7f",
   "metadata": {},
   "outputs": [
    {
     "data": {
      "text/plain": [
       "float"
      ]
     },
     "execution_count": 22,
     "metadata": {},
     "output_type": "execute_result"
    }
   ],
   "source": [
    "type(talla)"
   ]
  },
  {
   "cell_type": "code",
   "execution_count": 23,
   "id": "d96e038a",
   "metadata": {},
   "outputs": [
    {
     "data": {
      "text/plain": [
       "'100'"
      ]
     },
     "execution_count": 23,
     "metadata": {},
     "output_type": "execute_result"
    }
   ],
   "source": [
    "#Para convertir un numero en cadena utilizamos str()\n",
    "numero = 100\n",
    "cadena = str (numero)\n",
    "cadena"
   ]
  },
  {
   "cell_type": "code",
   "execution_count": 24,
   "id": "f6d2c32d",
   "metadata": {},
   "outputs": [
    {
     "data": {
      "text/plain": [
       "str"
      ]
     },
     "execution_count": 24,
     "metadata": {},
     "output_type": "execute_result"
    }
   ],
   "source": [
    "type(cadena)"
   ]
  },
  {
   "cell_type": "code",
   "execution_count": 25,
   "id": "0c4c073c",
   "metadata": {},
   "outputs": [
    {
     "data": {
      "text/plain": [
       "50"
      ]
     },
     "execution_count": 25,
     "metadata": {},
     "output_type": "execute_result"
    }
   ],
   "source": [
    "#Para convertir una cadena a numero utilizamos int()\n",
    "cadena2 = \"50\"\n",
    "numero2 = int(cadena2)\n",
    "numero2"
   ]
  },
  {
   "cell_type": "code",
   "execution_count": 26,
   "id": "37469254",
   "metadata": {},
   "outputs": [
    {
     "data": {
      "text/plain": [
       "50.0"
      ]
     },
     "execution_count": 26,
     "metadata": {},
     "output_type": "execute_result"
    }
   ],
   "source": [
    "#para convertir una cadena a decimal utilizamos float()\n",
    "cadena2 = \"50\"\n",
    "numero2 = float(cadena2)\n",
    "numero2"
   ]
  },
  {
   "cell_type": "code",
   "execution_count": 27,
   "id": "4508de82",
   "metadata": {},
   "outputs": [
    {
     "data": {
      "text/plain": [
       "int"
      ]
     },
     "execution_count": 27,
     "metadata": {},
     "output_type": "execute_result"
    }
   ],
   "source": [
    "type(numero)"
   ]
  },
  {
   "cell_type": "code",
   "execution_count": 28,
   "id": "f199eb8e",
   "metadata": {},
   "outputs": [
    {
     "data": {
      "text/plain": [
       "float"
      ]
     },
     "execution_count": 28,
     "metadata": {},
     "output_type": "execute_result"
    }
   ],
   "source": [
    "type(numero2)"
   ]
  },
  {
   "cell_type": "code",
   "execution_count": null,
   "id": "2f7e9c79",
   "metadata": {},
   "outputs": [],
   "source": []
  }
 ],
 "metadata": {
  "kernelspec": {
   "display_name": "Python 3 (ipykernel)",
   "language": "python",
   "name": "python3"
  },
  "language_info": {
   "codemirror_mode": {
    "name": "ipython",
    "version": 3
   },
   "file_extension": ".py",
   "mimetype": "text/x-python",
   "name": "python",
   "nbconvert_exporter": "python",
   "pygments_lexer": "ipython3",
   "version": "3.9.12"
  }
 },
 "nbformat": 4,
 "nbformat_minor": 5
}
