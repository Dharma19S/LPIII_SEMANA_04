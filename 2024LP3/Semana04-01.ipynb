{
 "cells": [
  {
   "cell_type": "markdown",
   "id": "76aab155",
   "metadata": {},
   "source": [
    "# SEMANA 04   "
   ]
  },
  {
   "cell_type": "markdown",
   "id": "be7e56ba",
   "metadata": {},
   "source": [
    "Agenda\n",
    "1. Números\n",
    "2. Variables\n",
    "3. Manejo de cadenas \n",
    "4. Ingreso por el eclado\n",
    "5. Operadores"
   ]
  },
  {
   "cell_type": "raw",
   "id": "b79edda8",
   "metadata": {},
   "source": [
    "1.Números"
   ]
  },
  {
   "cell_type": "code",
   "execution_count": 1,
   "id": "851d8eac",
   "metadata": {},
   "outputs": [
    {
     "data": {
      "text/plain": [
       "15"
      ]
     },
     "execution_count": 1,
     "metadata": {},
     "output_type": "execute_result"
    }
   ],
   "source": [
    "#Suma\n",
    "7+8"
   ]
  },
  {
   "cell_type": "code",
   "execution_count": 2,
   "id": "dbed4689",
   "metadata": {},
   "outputs": [
    {
     "data": {
      "text/plain": [
       "72"
      ]
     },
     "execution_count": 2,
     "metadata": {},
     "output_type": "execute_result"
    }
   ],
   "source": [
    "#Multiplicación\n",
    "8*9"
   ]
  },
  {
   "cell_type": "code",
   "execution_count": 3,
   "id": "25af3d27",
   "metadata": {},
   "outputs": [
    {
     "data": {
      "text/plain": [
       "60"
      ]
     },
     "execution_count": 3,
     "metadata": {},
     "output_type": "execute_result"
    }
   ],
   "source": [
    "#Orden de importancia\n",
    "(4+8)*5"
   ]
  },
  {
   "cell_type": "code",
   "execution_count": 4,
   "id": "0701f4f8",
   "metadata": {},
   "outputs": [
    {
     "data": {
      "text/plain": [
       "144"
      ]
     },
     "execution_count": 4,
     "metadata": {},
     "output_type": "execute_result"
    }
   ],
   "source": [
    "#Potenciación\n",
    "(4+8)**2"
   ]
  },
  {
   "cell_type": "code",
   "execution_count": 5,
   "id": "86bbeb3f",
   "metadata": {},
   "outputs": [
    {
     "name": "stdout",
     "output_type": "stream",
     "text": [
      "125\n"
     ]
    }
   ],
   "source": [
    "resultado = pow(5,3)\n",
    "print(resultado)"
   ]
  },
  {
   "cell_type": "code",
   "execution_count": null,
   "id": "0125ca9c",
   "metadata": {},
   "outputs": [],
   "source": []
  }
 ],
 "metadata": {
  "kernelspec": {
   "display_name": "Python 3 (ipykernel)",
   "language": "python",
   "name": "python3"
  },
  "language_info": {
   "codemirror_mode": {
    "name": "ipython",
    "version": 3
   },
   "file_extension": ".py",
   "mimetype": "text/x-python",
   "name": "python",
   "nbconvert_exporter": "python",
   "pygments_lexer": "ipython3",
   "version": "3.9.12"
  }
 },
 "nbformat": 4,
 "nbformat_minor": 5
}
