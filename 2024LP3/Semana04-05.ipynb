{
 "cells": [
  {
   "cell_type": "raw",
   "id": "cf4ebf4d",
   "metadata": {},
   "source": [
    "#Semana 04"
   ]
  },
  {
   "cell_type": "raw",
   "id": "bb812a13",
   "metadata": {},
   "source": [
    "Agenda\n",
    "\n",
    "1.Números\n",
    "2.Variables\n",
    "3.Manejo de cadenas\n",
    "4.Ingreso por el eclado\n",
    "5.Operadores"
   ]
  },
  {
   "cell_type": "markdown",
   "id": "ed3201e6",
   "metadata": {},
   "source": [
    "5. Operadores"
   ]
  },
  {
   "cell_type": "code",
   "execution_count": 2,
   "id": "917e72fd",
   "metadata": {},
   "outputs": [],
   "source": [
    "#5.1 operadores aritméticos\n",
    "#Se tiene : +, -, *, /, **, %, // "
   ]
  },
  {
   "cell_type": "code",
   "execution_count": 3,
   "id": "3a6d2fae",
   "metadata": {},
   "outputs": [
    {
     "name": "stdout",
     "output_type": "stream",
     "text": [
      "13\n",
      "7\n"
     ]
    }
   ],
   "source": [
    "numero1 = 10\n",
    "numero2 = 3\n",
    "suma = numero1 + numero2\n",
    "resta = numero1 - numero2\n",
    "print(suma)\n",
    "print(resta)"
   ]
  },
  {
   "cell_type": "code",
   "execution_count": null,
   "id": "5e4cacd9",
   "metadata": {},
   "outputs": [],
   "source": []
  }
 ],
 "metadata": {
  "kernelspec": {
   "display_name": "Python 3 (ipykernel)",
   "language": "python",
   "name": "python3"
  },
  "language_info": {
   "codemirror_mode": {
    "name": "ipython",
    "version": 3
   },
   "file_extension": ".py",
   "mimetype": "text/x-python",
   "name": "python",
   "nbconvert_exporter": "python",
   "pygments_lexer": "ipython3",
   "version": "3.9.12"
  }
 },
 "nbformat": 4,
 "nbformat_minor": 5
}
